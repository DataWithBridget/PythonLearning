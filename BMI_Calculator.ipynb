{
  "nbformat": 4,
  "nbformat_minor": 0,
  "metadata": {
    "colab": {
      "provenance": [],
      "authorship_tag": "ABX9TyNDBduMsHgsUib6DLM8MgYx",
      "include_colab_link": true
    },
    "kernelspec": {
      "name": "python3",
      "display_name": "Python 3"
    },
    "language_info": {
      "name": "python"
    }
  },
  "cells": [
    {
      "cell_type": "markdown",
      "metadata": {
        "id": "view-in-github",
        "colab_type": "text"
      },
      "source": [
        "<a href=\"https://colab.research.google.com/github/DataWithBridget/PythonLearning/blob/main/BMI_Calculator.ipynb\" target=\"_parent\"><img src=\"https://colab.research.google.com/assets/colab-badge.svg\" alt=\"Open In Colab\"/></a>"
      ]
    },
    {
      "cell_type": "markdown",
      "source": [
        "First Attempt On Using Google Colab."
      ],
      "metadata": {
        "id": "j9sfXrl0hR3i"
      }
    },
    {
      "cell_type": "code",
      "execution_count": 1,
      "metadata": {
        "colab": {
          "base_uri": "https://localhost:8080/"
        },
        "id": "-L4szAl0hJsY",
        "outputId": "95870e57-619b-4683-adb1-3f4a2275c57e"
      },
      "outputs": [
        {
          "output_type": "stream",
          "name": "stdout",
          "text": [
            "Hello world, It's Data With Bridget\n"
          ]
        }
      ],
      "source": [
        "print (\"Hello world, It's Data With Bridget\")"
      ]
    },
    {
      "cell_type": "code",
      "source": [
        "# Let's create my first BMI Calculator on this platform\n",
        "\n",
        "name = input (\"Enter your name:\")\n",
        "weight = int (input (\"Enter your weight in pounds:\"))\n",
        "height = int (input (\"Enter your height in inches:\"))\n",
        "bmi = (weight * 703) / (height * height)\n",
        "print (bmi)\n",
        "\n",
        "if bmi > 0:\n",
        "  if (bmi < 18.5):\n",
        "    print (name + \", you are underweight.\")\n",
        "  elif (bmi <= 24.9):\n",
        "    print (name + \", you are normal weight.\")\n",
        "  elif (bmi < 29.9):\n",
        "    print (name + \", you are overweight. You need to exercise more and stop sitting and writing so many python tutorials.\")\n",
        "  elif (bmi < 34.9):\n",
        "    print (name + \", you are obese.\")\n",
        "  elif (bmi < 39.9):\n",
        "    print (name + \", you are severely obese.\")\n",
        "  elif (bmi > 40):\n",
        "    print (name + \", you are morbidly obese.\")\n",
        "else:\n",
        "  print (\"Enter valid input\")"
      ],
      "metadata": {
        "colab": {
          "base_uri": "https://localhost:8080/"
        },
        "id": "hwD5rIq3hmxn",
        "outputId": "8c0893cf-c94b-425a-e982-044f982d67eb"
      },
      "execution_count": 7,
      "outputs": [
        {
          "output_type": "stream",
          "name": "stdout",
          "text": [
            "Enter your name:Bridget\n",
            "Enter your weight in pounds:120\n",
            "Enter your height in inches:76\n",
            "14.605263157894736\n",
            "Bridget, you are underweight.\n"
          ]
        }
      ]
    }
  ]
}